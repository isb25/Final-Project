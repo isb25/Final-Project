{
 "cells": [
  {
   "cell_type": "markdown",
   "metadata": {},
   "source": [
    "<h1>Final Project</h1>"
   ]
  },
  {
   "cell_type": "markdown",
   "metadata": {},
   "source": [
    "<strong>Team: J.I.A </strong>"
   ]
  },
  {
   "cell_type": "markdown",
   "metadata": {},
   "source": [
    "<strong> _Ishaan, James, Ariana_ </strong>"
   ]
  },
  {
   "cell_type": "markdown",
   "metadata": {},
   "source": [
    "<h2>Introduction</h2>"
   ]
  },
  {
   "cell_type": "markdown",
   "metadata": {},
   "source": [
    "For our project, we decided on using the metrics of environment and safety to determine the best neighborhood in Pittsburgh. We thought of a few other metrics such as education, traffic/noise, and wealthiest; however, we chose environment/beauty and safety because we believe those metrics will provide the most accurate analysis of what determines a good neighborhood. Those looking to find a home would want the area they are living in to be safe for themselves and anyone else living with them, especially children. Additionally, the cleanliness of a neighborhood is important for health and aesthetic reasons. The other metrics that we decided not to explore were more superficial."
   ]
  },
  {
   "cell_type": "markdown",
   "metadata": {},
   "source": [
    "<h2>The Metrics</h2>"
   ]
  },
  {
   "cell_type": "markdown",
   "metadata": {},
   "source": [
    "We focused on three different datasets for safest, and four for beauty. For safety, we used a dataset about the police incident reportings, arrests, and firearms that citizens owned. This allows us to have a thorough overview of different aspects that would make a city unsafe. The safest neighborhood would have the least amount of incidents, arrests, and firearms For environment, we used data containing the number of Smart Cans in each city, the number of city pools, number of playgrounds, and number of playing-fields. The city with the best environment would have the largest amount of each. By analyzing these datasets, it allows us to see if a neighborhood has a pleasant environment for it's residents to engage with, and if there is a sufficient amount of recreation."
   ]
  },
  {
   "cell_type": "markdown",
   "metadata": {},
   "source": [
    "<h2>The Code </h2>"
   ]
  },
  {
   "cell_type": "markdown",
   "metadata": {},
   "source": [
    "The code below shows our process of analyzing the data sets, and sorting through them. Each neighborhood started with a score of 0, and got one point added for each time the neighborhood was reported in the data sets. Then it was sorted and a graph is shown, highlighting the ten highest scores."
   ]
  },
  {
   "cell_type": "code",
   "execution_count": 11,
   "metadata": {},
   "outputs": [],
   "source": [
    "import pandas as pd\n"
   ]
  },
  {
   "cell_type": "code",
   "execution_count": 42,
   "metadata": {},
   "outputs": [
    {
     "data": {
      "text/plain": [
       "<matplotlib.axes._subplots.AxesSubplot at 0x7f274754f828>"
      ]
     },
     "execution_count": 42,
     "metadata": {},
     "output_type": "execute_result"
    },
    {
     "data": {
      "image/png": "[encoded data removed]",
      "text/plain": [
       "<Figure size 432x288 with 1 Axes>"
      ]
     },
     "metadata": {
      "needs_background": "light"
     },
     "output_type": "display_data"
    }
   ],
   "source": [
    "neighborhood = pd.read_csv(\"Neighborhoods_.csv\")\n",
    "hoodsdict = neighborhood['hood'].value_counts().to_dict()\n",
    "neighborhood.set_index('hood')\n",
    "\n",
    "firearms = pd.read_csv(\"Firearms.csv\")\n",
    "armsdict = firearms['neighborhood'].value_counts().to_dict()\n",
    "\n",
    "incidents = pd.read_csv(\"Police_Incident.csv\")\n",
    "incidentdict = incidents['INCIDENTNEIGHBORHOOD'].value_counts().to_dict()\n",
    "\n",
    "arrests = pd.read_csv(\"Arrest.csv\")\n",
    "arrestsdict = arrests['INCIDENTNEIGHBORHOOD'].value_counts().to_dict()\n",
    "\n",
    "\n",
    "score = hoodsdict\n",
    "\n",
    "for key in armsdict:\n",
    "    if key in score:\n",
    "        score[key] = score[key] + armsdict[key]\n",
    "for key in incidentdict:\n",
    "    if key in score:\n",
    "        score[key] = score[key] + incidentdict[key]\n",
    "for key in arrestsdict:\n",
    "    if key in score:\n",
    "        score[key] = score[key] + arrestsdict[key]\n",
    "        \n",
    "array = list(score.values())\n",
    "array.sort(reverse = True)\n",
    "ratio = 50/array[0]\n",
    "for key in score:\n",
    "    score[key] = ratio * score[key]\n",
    "s = pd.Series(score, name=\"Score\")\n",
    "s.index.name = \"Neighborhood\"\n",
    "s.sort_values(ascending=True).iloc[0:10].plot(kind='bar', title=\"Crime in Neighborhoods\")\n",
    "\n"
   ]
  },
  {
   "cell_type": "markdown",
   "metadata": {},
   "source": [
    "<h2>More Code</h2>"
   ]
  },
  {
   "cell_type": "markdown",
   "metadata": {},
   "source": [
    "In this next part of code, we basically did the same thing with the datasets relating to the enivornment factor. Then, again, it was graphed and displayed to show the ten highest scoring neighborhoods for the environmental aspect."
   ]
  },
  {
   "cell_type": "code",
   "execution_count": 46,
   "metadata": {},
   "outputs": [
    {
     "data": {
      "text/plain": [
       "<matplotlib.axes._subplots.AxesSubplot at 0x7f273d318c88>"
      ]
     },
     "execution_count": 46,
     "metadata": {},
     "output_type": "execute_result"
    },
    {
     "data": {
      "image/png": "[encoded data removed]",
      "text/plain": [
       "<Figure size 432x288 with 1 Axes>"
      ]
     },
     "metadata": {
      "needs_background": "light"
     },
     "output_type": "display_data"
    }
   ],
   "source": [
    "neighborhood = pd.read_csv(\"Neighborhoods_.csv\")\n",
    "hoodsdict = neighborhood['hood'].value_counts().to_dict()\n",
    "neighborhood.set_index('hood')\n",
    "\n",
    "cans = pd.read_csv(\"Cans.csv\")\n",
    "cansdict = cans['neighborhood'].value_counts().to_dict()\n",
    "\n",
    "playgrounds = pd.read_csv('https://data.wprdc.org/datastore/dump/47350364-44a8-4d15-b6e0-5f79ddff9367')\n",
    "part1 = playgrounds['neighborhood'].value_counts().to_dict()\n",
    "\n",
    "\n",
    "courts = pd.read_csv('https://data.wprdc.org/datastore/dump/a5b71bfa-840c-4c86-8f43-07a9ae854227')\n",
    "part2 = courts['neighborhood'].value_counts().to_dict()\n",
    "\n",
    "\n",
    "fields = pd.read_csv('https://data.wprdc.org/datastore/dump/6af89346-b971-41d5-af09-49cfdb4dfe23')\n",
    "part3 = fields['neighborhood'].value_counts().to_dict()\n",
    "\n",
    "\n",
    "pools = pd.read_csv('https://data.wprdc.org/datastore/dump/5cc254fe-2cbd-4912-9f44-2f95f0beea9a')\n",
    "part4 = pools['neighborhood'].value_counts().to_dict()\n",
    "\n",
    "\n",
    "scoresEnv = hoodsdict\n",
    "\n",
    "for key in cansdict:\n",
    "    if key in scoresEnv:\n",
    "        scoresEnv[key] = scoresEnv[key] + cansdict[key]\n",
    "for key in part1:\n",
    "    if key in scoresEnv:\n",
    "        scoresEnv[key] = part1[key] + scoresEnv[key]\n",
    "for key in part2:\n",
    "    if key in scoresEnv:\n",
    "        scoresEnv[key] = part2[key] + scoresEnv[key]\n",
    "for key in part3:\n",
    "    if key in scoresEnv:\n",
    "        scoresEnv[key] = part3[key] + scoresEnv[key]\n",
    "for key in part4:\n",
    "    if key in scoresEnv:\n",
    "        scoresEnv[key] = part4[key] + scoresEnv[key]\n",
    "\n",
    "array = list(scoresEnv.values())\n",
    "array.sort(reverse=True)\n",
    "ratio = 50/array[0]\n",
    "\n",
    "for key in scoresEnv:\n",
    "    scoresEnv[key] = ratio * scoresEnv[key]\n",
    "s = pd.Series(scoresEnv, name=\"Score\")\n",
    "s.index.name = \"Neighborhood\"\n",
    "s.sort_values(ascending=False).iloc[0:10].plot(kind='bar')"
   ]
  },
  {
   "cell_type": "markdown",
   "metadata": {},
   "source": [
    "<h2> Last Bit Of Code </h2>"
   ]
  },
  {
   "cell_type": "markdown",
   "metadata": {},
   "source": [
    "In this final part, we make the scores 50 as a base line, then add the values from the array storing the environmental score , and subtracted their score from the safety incidents. In the end, we displayed it using a final bar graph that highlights the actual best scores."
   ]
  },
  {
   "cell_type": "code",
   "execution_count": 10,
   "metadata": {},
   "outputs": [
    {
     "name": "stdout",
     "output_type": "stream",
     "text": [
      "Neighborhood\n",
      "Squirrel Hill South      88.958252\n",
      "Shadyside                85.340249\n",
      "Bloomfield               77.969292\n",
      "North Shore              75.227789\n",
      "Strip District           74.621652\n",
      "Central Oakland          71.036699\n",
      "Lower Lawrenceville      70.215969\n",
      "East Liberty             69.748686\n",
      "Highland Park            67.763880\n",
      "Central Lawrenceville    63.464690\n"
     ]
    },
    {
     "data": {
      "image/png": "[encoded data removed]",
      "text/plain": [
       "<Figure size 432x288 with 1 Axes>"
      ]
     },
     "metadata": {
      "needs_background": "light"
     },
     "output_type": "display_data"
    }
   ],
   "source": [
    "totalScores = score\n",
    "for key in score:\n",
    "    totalScores[key] = 50 + scoresEnv[key] - score[key]\n",
    "s = pd.Series(totalScores, name=\"Score\")\n",
    "s.index.name = \"Neighborhood\"\n",
    "isSorted = s.sort_values(ascending = False)\n",
    "isSorted.iloc[0:10].plot(kind='bar')\n",
    "print(s.sort_values(ascending = False).head(10).to_string())"
   ]
  },
  {
   "cell_type": "markdown",
   "metadata": {},
   "source": [
    "<h2> The Best Neighborhood </h2>"
   ]
  },
  {
   "cell_type": "markdown",
   "metadata": {},
   "source": [
    "According to our data, the best neighborhood is Squirrel Hill South with a total of 88.96 points."
   ]
  },
  {
   "cell_type": "markdown",
   "metadata": {},
   "source": [
    "<img src=\"SquirrelHill.jpg\"\n",
    "     alt=\"Squirrel Hill\"\n",
    "     style=\"float: left; margin-right: 5px;\" />"
   ]
  },
  {
   "cell_type": "markdown",
   "metadata": {},
   "source": [
    "And the runner-up is Shadyside with a total 85.34 points. "
   ]
  },
  {
   "cell_type": "markdown",
   "metadata": {},
   "source": [
    "<img src=\"Shadyside.jpg\"\n",
    "     alt=\"Shadyside\"\n",
    "     style=\"float: left; margin-right: 5px;\" />"
   ]
  },
  {
   "cell_type": "markdown",
   "metadata": {},
   "source": [
    "<h2>Conclusion</h2>"
   ]
  },
  {
   "cell_type": "markdown",
   "metadata": {},
   "source": [
    "Based on the results of the graphs, I have concluded that Squirrel Hill South is the best neighborhood for the most amount of Outdoor Recreation. Out of all the neighborhoods, it has the greatest number of playgrounds and number of courts/rinks. It also has lots of playing fields, and a pool too. Another good options include Highland Park, Southside Slopes, Hazelwood, and Beechview if you are looking for a nice variety of all activities. Brighton Heights is a good option if you are only interested in playing fields. Brookline is a good option if you don't care about playgrounds and want to stick to courts/rinks and playing fields.\n"
   ]
  },
  {
   "cell_type": "code",
   "execution_count": null,
   "metadata": {},
   "outputs": [],
   "source": []
  }
 ],
 "metadata": {
  "kernelspec": {
   "display_name": "Python 3",
   "language": "python",
   "name": "python3"
  },
  "language_info": {
   "codemirror_mode": {
    "name": "ipython",
    "version": 3
   },
   "file_extension": ".py",
   "mimetype": "text/x-python",
   "name": "python",
   "nbconvert_exporter": "python",
   "pygments_lexer": "ipython3",
   "version": "3.6.7"
  }
 },
 "nbformat": 4,
 "nbformat_minor": 4
}
