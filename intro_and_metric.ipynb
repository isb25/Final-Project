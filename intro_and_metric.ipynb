{
 "cells": [
  {
   "cell_type": "markdown",
   "metadata": {},
   "source": [
    "Introduction:\n",
    "\n",
    "For our project, we decided on using the metrics of environment and safety to determine the best neighborhood in Pittsburgh. We thought of a few other metrics such as education, traffic/noise, and wealthiest. However, we chose environment/beauty and safety because we believe those metrics will provide the most accurate analysis of what determines a good neighborhood. Those looking to find a home would want the area they are living in to be safe for themselves and anyone else living with them, especially children. Additionally, the cleanliness of a neighborhood is important for health and aesthetic reasons. The other metrics that we decided not to explore were more superficial. \n",
    "\n",
    "The Metrics:\n",
    "\n",
    "We focused on three different datasets for safest, and four for beauty. For safety, we used a dataset about the police incident reportings, arrests, and firearms that citizens owned. This allows us to have a thorough overview of different aspects that would make a city unsafe. The safest neighborhood would have the least amount of incidents, arrests, and firearms For environment, we used data containing the number of Smart Cans in each city, the number of city pools, number of playgrounds, and number of playing-fields. The city with the best environment would have the largest amount of each. By analyzing these datasets, it allows us to see if a neighborhood has a pleasant environment for it's residents to engage with, and if there is a sufficient amount of recreation."
   ]
  },
  {
   "cell_type": "code",
   "execution_count": null,
   "metadata": {},
   "outputs": [],
   "source": []
  }
 ],
 "metadata": {
  "kernelspec": {
   "display_name": "",
   "name": ""
  },
  "language_info": {
   "codemirror_mode": {
    "name": "ipython",
    "version": 3
   },
   "file_extension": ".py",
   "mimetype": "text/x-python",
   "name": "python",
   "nbconvert_exporter": "python",
   "pygments_lexer": "ipython3",
   "version": "3.6.7"
  }
 },
 "nbformat": 4,
 "nbformat_minor": 4
}
